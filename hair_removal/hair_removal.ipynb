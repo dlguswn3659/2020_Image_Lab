{
  "nbformat": 4,
  "nbformat_minor": 0,
  "metadata": {
    "colab": {
      "name": "hair_removal.ipynb",
      "provenance": [],
      "authorship_tag": "ABX9TyOSsAHhZVxemGlSD9BLIN29",
      "include_colab_link": true
    },
    "kernelspec": {
      "name": "python3",
      "display_name": "Python 3"
    }
  },
  "cells": [
    {
      "cell_type": "markdown",
      "metadata": {
        "id": "view-in-github",
        "colab_type": "text"
      },
      "source": [
        "<a href=\"https://colab.research.google.com/github/dlguswn3659/2020_Image_Lab/blob/master/hair_removal/hair_removal.ipynb\" target=\"_parent\"><img src=\"https://colab.research.google.com/assets/colab-badge.svg\" alt=\"Open In Colab\"/></a>"
      ]
    },
    {
      "cell_type": "code",
      "metadata": {
        "id": "na5yrxJ-3TXB",
        "colab_type": "code",
        "colab": {}
      },
      "source": [
        "from google.colab import drive\n",
        "\n",
        "drive.mount('/content/gdrive')"
      ],
      "execution_count": null,
      "outputs": []
    },
    {
      "cell_type": "code",
      "metadata": {
        "id": "5vrvWdm93ecp",
        "colab_type": "code",
        "colab": {}
      },
      "source": [
        "!pip install -q pydicom"
      ],
      "execution_count": null,
      "outputs": []
    },
    {
      "cell_type": "code",
      "metadata": {
        "id": "OfdiBYwV3fYB",
        "colab_type": "code",
        "colab": {}
      },
      "source": [
        "from PIL import Image\n",
        "import cv2\n",
        "import os\n",
        "import pandas as pd\n",
        "import matplotlib.pyplot as plt\n",
        "import pydicom\n",
        "import matplotlib.pyplot as plt\n",
        "from pydicom.data import get_testdata_files"
      ],
      "execution_count": null,
      "outputs": []
    },
    {
      "cell_type": "code",
      "metadata": {
        "id": "sSG7Q9Bv3gmF",
        "colab_type": "code",
        "colab": {}
      },
      "source": [
        "from google.colab.patches import cv2_imshow\n",
        "\n",
        "!curl -o logo.png https://colab.research.google.com/img/colab_favicon_256px.png\n",
        "import cv2"
      ],
      "execution_count": null,
      "outputs": []
    },
    {
      "cell_type": "code",
      "metadata": {
        "id": "CdvhApz93hqH",
        "colab_type": "code",
        "colab": {}
      },
      "source": [
        "# -*- coding: utf-8 -*-\n",
        "\"\"\"\n",
        "Following are the DHR tasks followed in this example code:\n",
        "    \n",
        "    -- Applying Morphological Black-Hat transformation\n",
        "    -- Creating the mask for InPainting task\n",
        "    -- Applying inpainting algorithm on the image\n",
        "\"\"\"\n",
        "# define location of dataset\n",
        "folder = '/content/gdrive/My Drive/ISIC-melanoma/train/'\n",
        "new_storage_folder = '/content/gdrive/My Drive/hair-removal-image/'\n",
        "\n",
        "start_num = 10000\n",
        "end_num = 70000\n",
        "\n",
        "file_startname = 'ISIC_00'\n",
        "\n",
        "if start_num >= 100000:\n",
        "  file_startname = 'ISIC_0'\n",
        "elif start_num >= 1000000:\n",
        "  file_startname = 'ISIC_'\n",
        "\n",
        "for i in range (start_num, end_num):\n",
        "  if os.path.isfile(folder + file_startname + str(i) + '.dcm'):\n",
        "    filename = folder + file_startname + str(i) + '.dcm'\n",
        "    dataset = pydicom.dcmread(filename)\n",
        "\n",
        "    # print( src.shape )\n",
        "    # cv2.imshow(\"original Image\" , src )\n",
        "    if 'PixelData' in dataset:\n",
        "        rows = int(dataset.Rows)\n",
        "        cols = int(dataset.Columns)\n",
        "        print(\"Image size.......: {rows:d} x {cols:d}, {size:d} bytes\".format(\n",
        "            rows=rows, cols=cols, size=len(dataset.PixelData)))\n",
        "        if 'PixelSpacing' in dataset:\n",
        "            print(\"Pixel spacing....:\", dataset.PixelSpacing)\n",
        "\n",
        "    # use .get() if not sure the item exists, and want a default value if missing\n",
        "    print(\"Slice location...:\", dataset.get('SliceLocation', \"(missing)\"))\n",
        "    print(\"file name : \", file_startname + str(i))\n",
        "\n",
        "    # src = cv2.cvtColor(dataset.pixel_array, cv2.COLOR_RGB2BGR)\n",
        "    src = dataset.pixel_array\n",
        "\n",
        "    # plt.imshow(src, cmap='gray')\n",
        "    # plt.imshow(src)\n",
        "    # plt.show()\n",
        "\n",
        "    print( src.shape )\n",
        "    cv2_imshow(src )\n",
        "\n",
        "    # Convert the original image to grayscale\n",
        "    grayScale = cv2.cvtColor(dataset.pixel_array, cv2.COLOR_BGR2GRAY )\n",
        "    print(\"GrayScaled Image\")\n",
        "    cv2_imshow(grayScale)\n",
        "    # plt.imshow(grayScale)\n",
        "    # plt.show()\n",
        "    cv2.imwrite(file_startname + str(i) + 'grayScale.jpg', grayScale, [int(cv2.IMWRITE_JPEG_QUALITY), 90])\n",
        "\n",
        "    # Kernel for the morphological filtering\n",
        "    kernel = cv2.getStructuringElement(1,(17,17))\n",
        "\n",
        "    # Perform the blackHat filtering on the grayscale image to find the \n",
        "    # hair countours\n",
        "    blackhat = cv2.morphologyEx(grayScale, cv2.MORPH_BLACKHAT, kernel)\n",
        "    print(\"BlackHat filtering result\")\n",
        "    cv2_imshow(blackhat)\n",
        "    # plt.imshow(blackhat)\n",
        "    # plt.show()\n",
        "    cv2.imwrite(file_startname + str(i) + 'blackhat.jpg', blackhat, [int(cv2.IMWRITE_JPEG_QUALITY), 90])\n",
        "\n",
        "    # intensify the hair countours in preparation for the inpainting \n",
        "    # algorithm\n",
        "    ret,thresh2 = cv2.threshold(blackhat,10,255,cv2.THRESH_BINARY)\n",
        "    print(\"Thresholded image for inpainting\")\n",
        "    print( thresh2.shape )\n",
        "    cv2_imshow(thresh2)\n",
        "    # plt.imshow(thresh2)\n",
        "    # plt.show()\n",
        "    cv2.imwrite(file_startname + str(i) + 'thresholded.jpg', thresh2, [int(cv2.IMWRITE_JPEG_QUALITY), 90])\n",
        "\n",
        "    # inpaint the original image depending on the mask\n",
        "    dst = cv2.inpaint(src,thresh2,1,cv2.INPAINT_TELEA)\n",
        "    print(\"Image after Inpainting\")\n",
        "    cv2_imshow(dst)\n",
        "    # plt.imshow(dst)\n",
        "    # plt.show()\n",
        "    cv2.imwrite(new_storage_folder + file_startname + str(i) + 'Inpainted.jpg', dst, [int(cv2.IMWRITE_JPEG_QUALITY), 90])"
      ],
      "execution_count": null,
      "outputs": []
    }
  ]
}