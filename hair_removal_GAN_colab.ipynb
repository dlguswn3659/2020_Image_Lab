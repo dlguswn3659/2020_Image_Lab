{
  "nbformat": 4,
  "nbformat_minor": 0,
  "metadata": {
    "colab": {
      "name": "hair_removal_GAN_colab.ipynb",
      "provenance": [],
      "toc_visible": true,
      "authorship_tag": "ABX9TyOU9UjOWlx3rTcqIr03APim",
      "include_colab_link": true
    },
    "kernelspec": {
      "name": "python3",
      "display_name": "Python 3"
    },
    "accelerator": "GPU"
  },
  "cells": [
    {
      "cell_type": "markdown",
      "metadata": {
        "id": "view-in-github",
        "colab_type": "text"
      },
      "source": [
        "<a href=\"https://colab.research.google.com/github/dlguswn3659/2020_Image_Lab/blob/master/hair_removal_GAN_colab.ipynb\" target=\"_parent\"><img src=\"https://colab.research.google.com/assets/colab-badge.svg\" alt=\"Open In Colab\"/></a>"
      ]
    },
    {
      "cell_type": "code",
      "metadata": {
        "id": "5txZFeLWbc_1",
        "colab_type": "code",
        "colab": {
          "base_uri": "https://localhost:8080/",
          "height": 125
        },
        "outputId": "080cb801-3a9d-4f5c-e48c-a1eb83f13092"
      },
      "source": [
        "from google.colab import drive\n",
        "\n",
        "drive.mount('/content/gdrive')"
      ],
      "execution_count": 1,
      "outputs": [
        {
          "output_type": "stream",
          "text": [
            "Go to this URL in a browser: https://accounts.google.com/o/oauth2/auth?client_id=947318989803-6bn6qk8qdgf4n4g3pfee6491hc0brc4i.apps.googleusercontent.com&redirect_uri=urn%3aietf%3awg%3aoauth%3a2.0%3aoob&scope=email%20https%3a%2f%2fwww.googleapis.com%2fauth%2fdocs.test%20https%3a%2f%2fwww.googleapis.com%2fauth%2fdrive%20https%3a%2f%2fwww.googleapis.com%2fauth%2fdrive.photos.readonly%20https%3a%2f%2fwww.googleapis.com%2fauth%2fpeopleapi.readonly&response_type=code\n",
            "\n",
            "Enter your authorization code:\n",
            "··········\n",
            "Mounted at /content/gdrive\n"
          ],
          "name": "stdout"
        }
      ]
    },
    {
      "cell_type": "code",
      "metadata": {
        "id": "X8GsIyH374iZ",
        "colab_type": "code",
        "colab": {
          "base_uri": "https://localhost:8080/",
          "height": 35
        },
        "outputId": "b6f44810-97d9-40fb-db5b-9d7052ce34a6"
      },
      "source": [
        "%cd ../content/"
      ],
      "execution_count": 2,
      "outputs": [
        {
          "output_type": "stream",
          "text": [
            "/content\n"
          ],
          "name": "stdout"
        }
      ]
    },
    {
      "cell_type": "code",
      "metadata": {
        "id": "fTjYQ3gJ6fSC",
        "colab_type": "code",
        "colab": {}
      },
      "source": [
        "# from google.colab import files # upload json(JavaScript Object Notation) file\n",
        "# files.upload() #"
      ],
      "execution_count": 3,
      "outputs": []
    },
    {
      "cell_type": "code",
      "metadata": {
        "id": "YBAtnPWx7ARx",
        "colab_type": "code",
        "colab": {}
      },
      "source": [
        "# ls -1ha kaggle.json "
      ],
      "execution_count": 4,
      "outputs": []
    },
    {
      "cell_type": "code",
      "metadata": {
        "id": "O8nIMPf07CaH",
        "colab_type": "code",
        "colab": {}
      },
      "source": [
        "# !cp kaggle.json ~/.kaggle/ \n",
        "# !kaggle competitions list"
      ],
      "execution_count": 5,
      "outputs": []
    },
    {
      "cell_type": "code",
      "metadata": {
        "id": "jfqbtmjm8W8K",
        "colab_type": "code",
        "colab": {}
      },
      "source": [
        "# %cd /content/gdrive/My Drive/kaggle/jpeg"
      ],
      "execution_count": 6,
      "outputs": []
    },
    {
      "cell_type": "code",
      "metadata": {
        "id": "YjYccFMP8xHn",
        "colab_type": "code",
        "colab": {}
      },
      "source": [
        "# !kaggle competitions download -c siim-isic-melanoma-classification/jpeg"
      ],
      "execution_count": 7,
      "outputs": []
    },
    {
      "cell_type": "code",
      "metadata": {
        "id": "3h-pPdTKDDwU",
        "colab_type": "code",
        "colab": {
          "base_uri": "https://localhost:8080/",
          "height": 122
        },
        "outputId": "8348b74d-aa66-4c3b-c58e-f2b5508ef32d"
      },
      "source": [
        "!git clone https://github.com/dlguswn3659/imagelab_cau_2020_summer_proj.git"
      ],
      "execution_count": 8,
      "outputs": [
        {
          "output_type": "stream",
          "text": [
            "Cloning into 'imagelab_cau_2020_summer_proj'...\n",
            "remote: Enumerating objects: 59, done.\u001b[K\n",
            "remote: Counting objects: 100% (59/59), done.\u001b[K\n",
            "remote: Compressing objects: 100% (48/48), done.\u001b[K\n",
            "remote: Total 59 (delta 14), reused 0 (delta 0), pack-reused 0\u001b[K\n",
            "Unpacking objects: 100% (59/59), done.\n"
          ],
          "name": "stdout"
        }
      ]
    },
    {
      "cell_type": "code",
      "metadata": {
        "id": "MJyQJ7qnjGnF",
        "colab_type": "code",
        "colab": {
          "base_uri": "https://localhost:8080/",
          "height": 35
        },
        "outputId": "23e482e6-7391-4715-8d64-018be6865d34"
      },
      "source": [
        "%cd ../content/"
      ],
      "execution_count": 9,
      "outputs": [
        {
          "output_type": "stream",
          "text": [
            "/content\n"
          ],
          "name": "stdout"
        }
      ]
    },
    {
      "cell_type": "code",
      "metadata": {
        "id": "hb1l4C00HQsN",
        "colab_type": "code",
        "colab": {
          "base_uri": "https://localhost:8080/",
          "height": 35
        },
        "outputId": "e1e1759a-8c37-4da2-cf5c-af9aeedde3c9"
      },
      "source": [
        "%cd imagelab_cau_2020_summer_proj"
      ],
      "execution_count": 10,
      "outputs": [
        {
          "output_type": "stream",
          "text": [
            "/content/imagelab_cau_2020_summer_proj\n"
          ],
          "name": "stdout"
        }
      ]
    },
    {
      "cell_type": "code",
      "metadata": {
        "id": "ssFBftxOjAN4",
        "colab_type": "code",
        "colab": {
          "base_uri": "https://localhost:8080/",
          "height": 35
        },
        "outputId": "a431f404-d142-42e8-8398-1ce85e684f7f"
      },
      "source": [
        "!ls"
      ],
      "execution_count": 11,
      "outputs": [
        {
          "output_type": "stream",
          "text": [
            "hair_classification  hair_removal  README.md\n"
          ],
          "name": "stdout"
        }
      ]
    },
    {
      "cell_type": "code",
      "metadata": {
        "id": "xYemboeaG6XX",
        "colab_type": "code",
        "colab": {
          "base_uri": "https://localhost:8080/",
          "height": 105
        },
        "outputId": "0f2f3b5b-760a-4e02-e1e1-e7916db157a5"
      },
      "source": [
        "!pip install -r hair_removal/requirements.txt"
      ],
      "execution_count": 12,
      "outputs": [
        {
          "output_type": "stream",
          "text": [
            "Requirement already satisfied: torch in /usr/local/lib/python3.6/dist-packages (from -r hair_removal/requirements.txt (line 1)) (1.6.0+cu101)\n",
            "Requirement already satisfied: torchvision in /usr/local/lib/python3.6/dist-packages (from -r hair_removal/requirements.txt (line 2)) (0.7.0+cu101)\n",
            "Requirement already satisfied: pillow in /usr/local/lib/python3.6/dist-packages (from -r hair_removal/requirements.txt (line 3)) (7.0.0)\n",
            "Requirement already satisfied: future in /usr/local/lib/python3.6/dist-packages (from torch->-r hair_removal/requirements.txt (line 1)) (0.16.0)\n",
            "Requirement already satisfied: numpy in /usr/local/lib/python3.6/dist-packages (from torch->-r hair_removal/requirements.txt (line 1)) (1.18.5)\n"
          ],
          "name": "stdout"
        }
      ]
    },
    {
      "cell_type": "code",
      "metadata": {
        "id": "owXboNQtG9nb",
        "colab_type": "code",
        "colab": {
          "base_uri": "https://localhost:8080/",
          "height": 615
        },
        "outputId": "f9b544a2-7535-4404-b61c-aad326241bd9"
      },
      "source": [
        "%cd hair_removal/src/scripts\n",
        "!chmod +x train_hair_removal.sh\n",
        "!./train_hair_removal.sh"
      ],
      "execution_count": 13,
      "outputs": [
        {
          "output_type": "stream",
          "text": [
            "/content/imagelab_cau_2020_summer_proj/hair_removal/src/scripts\n",
            "[*] Configuration\n",
            "Namespace(beta1_d=0.5, beta1_g=0.5, beta2_d=0.999, beta2_g=0.999, cuda_id='cuda:0', dir_data_csv_hair='/content/gdrive/My Drive/ISIC-melanoma/hair_labeling/train_hair.csv', dir_data_csv_non_hair='/content/gdrive/My Drive/ISIC-melanoma/hair_labeling/train_non_hair.csv', dir_output='/content/imagelab_cau_2020_summer_proj/hair_removal/result', dir_train_data_image='/content/gdrive/My Drive/kaggle/jpeg', experiment_count=1, file_prefix='l1', height=128, image_format='jpg', lambda_distance=1.0, lambda_gp=10, lr_d=0.0001, lr_g=0.0001, multi_gpu=False, network_d='vgg', network_g='vgg', num_discriminator=5, num_epoch=10000, num_gpu=1, num_in_channel=3, num_out_channel=3, num_plot_img=4, num_workers=16, sample_interval=4, test_batch_size=4, train_batch_size=4, trained_ckpt_path='None', width=128)\n",
            "Directory  /content/imagelab_cau_2020_summer_proj/hair_removal/result/output  already exists\n",
            "Directory  /content/imagelab_cau_2020_summer_proj/hair_removal/result/output/train_info  already exists\n",
            "Directory  /content/imagelab_cau_2020_summer_proj/hair_removal/result/output/20200815_l1_lamdis10_lamgp10_lrd00001_lrg00001_bs4_ndisc5_nep10000_ex1_monitor_train  Created \n",
            "device: cuda:0\n",
            "start train epoch0:\n",
            "Traceback (most recent call last):\n",
            "  File \"../train_hair_removal.py\", line 342, in <module>\n",
            "    for i, data_hair in enumerate(loader_train_hair, 0):\n",
            "  File \"/usr/local/lib/python3.6/dist-packages/torch/utils/data/dataloader.py\", line 363, in __next__\n",
            "    data = self._next_data()\n",
            "  File \"/usr/local/lib/python3.6/dist-packages/torch/utils/data/dataloader.py\", line 989, in _next_data\n",
            "    return self._process_data(data)\n",
            "  File \"/usr/local/lib/python3.6/dist-packages/torch/utils/data/dataloader.py\", line 1014, in _process_data\n",
            "    data.reraise()\n",
            "  File \"/usr/local/lib/python3.6/dist-packages/torch/_utils.py\", line 395, in reraise\n",
            "    raise self.exc_type(msg)\n",
            "FileNotFoundError: Caught FileNotFoundError in DataLoader worker process 0.\n",
            "Original Traceback (most recent call last):\n",
            "  File \"/usr/local/lib/python3.6/dist-packages/torch/utils/data/_utils/worker.py\", line 185, in _worker_loop\n",
            "    data = fetcher.fetch(index)\n",
            "  File \"/usr/local/lib/python3.6/dist-packages/torch/utils/data/_utils/fetch.py\", line 44, in fetch\n",
            "    data = [self.dataset[idx] for idx in possibly_batched_index]\n",
            "  File \"/usr/local/lib/python3.6/dist-packages/torch/utils/data/_utils/fetch.py\", line 44, in <listcomp>\n",
            "    data = [self.dataset[idx] for idx in possibly_batched_index]\n",
            "  File \"/content/imagelab_cau_2020_summer_proj/hair_removal/src/datasets/melanoma_dataset.py\", line 43, in __getitem__\n",
            "    img = Image.open(img_path)\n",
            "  File \"/usr/local/lib/python3.6/dist-packages/PIL/Image.py\", line 2809, in open\n",
            "    fp = builtins.open(filename, \"rb\")\n",
            "FileNotFoundError: [Errno 2] No such file or directory: '/content/gdrive/My Drive/kaggle/jpeg/ISIC_1601784.jpg'\n",
            "\n"
          ],
          "name": "stdout"
        }
      ]
    },
    {
      "cell_type": "code",
      "metadata": {
        "id": "G6eMC0d8KZJe",
        "colab_type": "code",
        "colab": {
          "base_uri": "https://localhost:8080/",
          "height": 35
        },
        "outputId": "1f889981-ee35-4911-a194-60d069c365c0"
      },
      "source": [
        "!ls"
      ],
      "execution_count": 14,
      "outputs": [
        {
          "output_type": "stream",
          "text": [
            "train_hair_removal.sh\n"
          ],
          "name": "stdout"
        }
      ]
    }
  ]
}