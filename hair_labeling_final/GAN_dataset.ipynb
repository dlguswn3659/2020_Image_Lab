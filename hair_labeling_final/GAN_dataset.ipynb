{
  "nbformat": 4,
  "nbformat_minor": 0,
  "metadata": {
    "colab": {
      "name": "GAN_dataset.ipynb",
      "provenance": [],
      "authorship_tag": "ABX9TyMYUWQQck9cj01Jtaw4UNb2",
      "include_colab_link": true
    },
    "kernelspec": {
      "name": "python3",
      "display_name": "Python 3"
    }
  },
  "cells": [
    {
      "cell_type": "markdown",
      "metadata": {
        "id": "view-in-github",
        "colab_type": "text"
      },
      "source": [
        "<a href=\"https://colab.research.google.com/github/dlguswn3659/2020_Image_Lab/blob/master/hair_labeling_final/GAN_dataset.ipynb\" target=\"_parent\"><img src=\"https://colab.research.google.com/assets/colab-badge.svg\" alt=\"Open In Colab\"/></a>"
      ]
    },
    {
      "cell_type": "code",
      "metadata": {
        "id": "hTENjTKZ6coL",
        "colab_type": "code",
        "colab": {}
      },
      "source": [
        "import pandas as pd\n",
        "import numpy as np"
      ],
      "execution_count": null,
      "outputs": []
    },
    {
      "cell_type": "code",
      "metadata": {
        "id": "-VrjfI9Mbb7M",
        "colab_type": "code",
        "colab": {
          "base_uri": "https://localhost:8080/",
          "height": 125
        },
        "outputId": "3d07a709-548e-4830-bb09-3171134d768f"
      },
      "source": [
        "from google.colab import drive\n",
        "\n",
        "drive.mount('/content/gdrive')"
      ],
      "execution_count": null,
      "outputs": [
        {
          "output_type": "stream",
          "text": [
            "Go to this URL in a browser: https://accounts.google.com/o/oauth2/auth?client_id=947318989803-6bn6qk8qdgf4n4g3pfee6491hc0brc4i.apps.googleusercontent.com&redirect_uri=urn%3aietf%3awg%3aoauth%3a2.0%3aoob&scope=email%20https%3a%2f%2fwww.googleapis.com%2fauth%2fdocs.test%20https%3a%2f%2fwww.googleapis.com%2fauth%2fdrive%20https%3a%2f%2fwww.googleapis.com%2fauth%2fdrive.photos.readonly%20https%3a%2f%2fwww.googleapis.com%2fauth%2fpeopleapi.readonly&response_type=code\n",
            "\n",
            "Enter your authorization code:\n",
            "··········\n",
            "Mounted at /content/gdrive\n"
          ],
          "name": "stdout"
        }
      ]
    },
    {
      "cell_type": "code",
      "metadata": {
        "id": "SPo6yj0lZoYS",
        "colab_type": "code",
        "colab": {
          "base_uri": "https://localhost:8080/",
          "height": 507
        },
        "outputId": "d0968135-b21d-4248-984f-d11e46a95c6d"
      },
      "source": [
        "dir_csv = '/content/gdrive/My Drive/ISIC-melanoma/hair_labeling/label_data.csv'\n",
        "df = pd.read_csv(dir_csv)\n",
        "df_hair = df[df['hair'] == 1]\n",
        "df_non_hair = df[df['hair'] == 0]\n",
        "print(df_hair)\n",
        "print(df_non_hair)\n",
        "df_hair.to_csv('/content/gdrive/My Drive/ISIC-melanoma/hair_labeling/train_hair.csv', index=False)\n",
        "df_non_hair.to_csv('/content/gdrive/My Drive/ISIC-melanoma/hair_labeling/train_non_hair.csv', index=False)"
      ],
      "execution_count": null,
      "outputs": [
        {
          "output_type": "stream",
          "text": [
            "        image_name  hair\n",
            "0     ISIC_0015719   1.0\n",
            "2     ISIC_0068279   1.0\n",
            "5     ISIC_0074542   1.0\n",
            "10    ISIC_0076742   1.0\n",
            "15    ISIC_0078712   1.0\n",
            "...            ...   ...\n",
            "7978  ISIC_2487173   1.0\n",
            "7983  ISIC_2488468   1.0\n",
            "7989  ISIC_2490175   1.0\n",
            "7990  ISIC_2490282   1.0\n",
            "7992  ISIC_2490493   1.0\n",
            "\n",
            "[2989 rows x 2 columns]\n",
            "        image_name  hair\n",
            "1     ISIC_0052212   0.0\n",
            "3     ISIC_0074268   0.0\n",
            "4     ISIC_0074311   0.0\n",
            "6     ISIC_0075663   0.0\n",
            "7     ISIC_0075914   0.0\n",
            "...            ...   ...\n",
            "7988  ISIC_2489834   0.0\n",
            "7991  ISIC_2490481   0.0\n",
            "7993  ISIC_2491020   0.0\n",
            "7994  ISIC_2491124   0.0\n",
            "7995  ISIC_2491594   0.0\n",
            "\n",
            "[5005 rows x 2 columns]\n"
          ],
          "name": "stdout"
        }
      ]
    }
  ]
}