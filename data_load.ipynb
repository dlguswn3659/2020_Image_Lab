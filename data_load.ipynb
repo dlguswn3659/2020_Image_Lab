{
  "nbformat": 4,
  "nbformat_minor": 0,
  "metadata": {
    "colab": {
      "name": "data_load.ipynb",
      "provenance": [],
      "toc_visible": true,
      "authorship_tag": "ABX9TyP7CG/2tmHM3KmLCvtZp5SV",
      "include_colab_link": true
    },
    "kernelspec": {
      "name": "python3",
      "display_name": "Python 3"
    }
  },
  "cells": [
    {
      "cell_type": "markdown",
      "metadata": {
        "id": "view-in-github",
        "colab_type": "text"
      },
      "source": [
        "<a href=\"https://colab.research.google.com/github/dlguswn3659/2020_Image_Lab/blob/master/data_load.ipynb\" target=\"_parent\"><img src=\"https://colab.research.google.com/assets/colab-badge.svg\" alt=\"Open In Colab\"/></a>"
      ]
    },
    {
      "cell_type": "code",
      "metadata": {
        "id": "Zz48z2I10g4T",
        "colab_type": "code",
        "colab": {}
      },
      "source": [
        "# Set the random seed number for reproducible results\n",
        "seedNum = 1"
      ],
      "execution_count": 4,
      "outputs": []
    },
    {
      "cell_type": "code",
      "metadata": {
        "id": "4UbYOEXx0od0",
        "colab_type": "code",
        "colab": {
          "base_uri": "https://localhost:8080/",
          "height": 127
        },
        "outputId": "bd7c1154-fa08-4bb7-a2c1-0027a53f8f73"
      },
      "source": [
        "from google.colab import drive\n",
        "drive.mount('/content/drive')"
      ],
      "execution_count": 5,
      "outputs": [
        {
          "output_type": "stream",
          "text": [
            "Go to this URL in a browser: https://accounts.google.com/o/oauth2/auth?client_id=947318989803-6bn6qk8qdgf4n4g3pfee6491hc0brc4i.apps.googleusercontent.com&redirect_uri=urn%3aietf%3awg%3aoauth%3a2.0%3aoob&response_type=code&scope=email%20https%3a%2f%2fwww.googleapis.com%2fauth%2fdocs.test%20https%3a%2f%2fwww.googleapis.com%2fauth%2fdrive%20https%3a%2f%2fwww.googleapis.com%2fauth%2fdrive.photos.readonly%20https%3a%2f%2fwww.googleapis.com%2fauth%2fpeopleapi.readonly\n",
            "\n",
            "Enter your authorization code:\n",
            "··········\n",
            "Mounted at /content/drive\n"
          ],
          "name": "stdout"
        }
      ]
    },
    {
      "cell_type": "code",
      "metadata": {
        "id": "wn-CYIZW0o-8",
        "colab_type": "code",
        "colab": {}
      },
      "source": [
        "# Set the TensorFlow version to 2.x in Colab\n",
        "%tensorflow_version 2.x"
      ],
      "execution_count": 6,
      "outputs": []
    },
    {
      "cell_type": "code",
      "metadata": {
        "id": "_L0wIh2l0rQO",
        "colab_type": "code",
        "colab": {}
      },
      "source": [
        "import random\n",
        "random.seed(seedNum)\n",
        "import numpy as np\n",
        "np.random.seed(seedNum)\n",
        "import tensorflow as tf\n",
        "tf.random.set_seed(seedNum)\n",
        "from tensorflow.keras import Sequential\n",
        "from tensorflow.keras.layers import Dense\n",
        "from tensorflow.keras.layers import Flatten\n",
        "from tensorflow.keras.layers import Dropout\n",
        "from tensorflow.keras.layers import Conv2D\n",
        "from tensorflow.keras.layers import MaxPooling2D\n",
        "from tensorflow.keras.layers import BatchNormalization\n",
        "from tensorflow.keras.models import Model\n",
        "from tensorflow.keras.optimizers import Adam\n",
        "from tensorflow.keras.utils import to_categorical\n",
        "from tensorflow.keras.preprocessing.image import ImageDataGenerator\n",
        "import pandas as pd\n",
        "import math\n",
        "import os\n",
        "import sys\n",
        "import shutil\n",
        "import urllib.request\n",
        "import zipfile\n",
        "import smtplib\n",
        "from matplotlib import pyplot\n",
        "from matplotlib.image import imread\n",
        "from datetime import datetime\n",
        "from email.message import EmailMessage"
      ],
      "execution_count": 7,
      "outputs": []
    },
    {
      "cell_type": "code",
      "metadata": {
        "id": "935AL2iA0slL",
        "colab_type": "code",
        "colab": {
          "base_uri": "https://localhost:8080/",
          "height": 53
        },
        "outputId": "8eddaae4-d300-4018-95be-2f0736fb0144"
      },
      "source": [
        "gpu_info = !nvidia-smi\n",
        "gpu_info = '\\n'.join(gpu_info)\n",
        "if gpu_info.find('failed') >= 0:\n",
        "  print('Select the Runtime → \"Change runtime type\" menu to enable a GPU accelerator, ')\n",
        "  print('and then re-execute this cell.')\n",
        "else:\n",
        "  print(gpu_info)"
      ],
      "execution_count": 8,
      "outputs": [
        {
          "output_type": "stream",
          "text": [
            "Select the Runtime → \"Change runtime type\" menu to enable a GPU accelerator, \n",
            "and then re-execute this cell.\n"
          ],
          "name": "stdout"
        }
      ]
    },
    {
      "cell_type": "code",
      "metadata": {
        "id": "y45CcsrJ0tRO",
        "colab_type": "code",
        "colab": {}
      },
      "source": [
        "# plot diagnostic learning curves\n",
        "def summarize_diagnostics(history):\n",
        "\tfig, axs = pyplot.subplots(2, 1, figsize=(12,12))\n",
        "\t# plot loss\n",
        "\tpyplot.subplot(211)\n",
        "\tpyplot.title('Cross Entropy Loss')\n",
        "\tpyplot.plot(history.history['loss'], color='blue', label='train')\n",
        "\tpyplot.plot(history.history['val_loss'], color='red', label='test')\n",
        "\t# plot accuracy\n",
        "\tpyplot.subplot(212)\n",
        "\tpyplot.title('Classification Accuracy')\n",
        "\tpyplot.plot(history.history['accuracy'], color='blue', label='train')\n",
        "\tpyplot.plot(history.history['val_accuracy'], color='red', label='test')\n",
        "\tpyplot.show()"
      ],
      "execution_count": 9,
      "outputs": []
    },
    {
      "cell_type": "code",
      "metadata": {
        "id": "9SXVD80a0usM",
        "colab_type": "code",
        "colab": {
          "base_uri": "https://localhost:8080/",
          "height": 35
        },
        "outputId": "37cfcf7d-d0ce-4ee9-f263-1ccf48ee7b17"
      },
      "source": [
        "# Begin the timer for the script processing\n",
        "startTimeScript = datetime.now()\n",
        "\n",
        "# Set up the number of CPU cores available for multi-thread processing\n",
        "n_jobs = -1\n",
        "print(\"Num GPUs Available: \", len(tf.config.experimental.list_physical_devices('GPU')))\n",
        "\n",
        "# Set up the flag to stop sending progress emails (setting to True will send status emails!)\n",
        "notifyStatus = False\n",
        "\n",
        "# Set up the mountStorage flag to mount G Drive for storing files (setting True will mount the drive!)\n",
        "mountStorage = False"
      ],
      "execution_count": 10,
      "outputs": [
        {
          "output_type": "stream",
          "text": [
            "Num GPUs Available:  0\n"
          ],
          "name": "stdout"
        }
      ]
    },
    {
      "cell_type": "code",
      "metadata": {
        "id": "-Lo5A5v40vxa",
        "colab_type": "code",
        "colab": {}
      },
      "source": [
        "\n",
        "# Colab-Specific Setup - Mount Google Drive for storing downloaded files\n",
        "if (mountStorage):\n",
        "    from google.colab import drive\n",
        "    drive.mount('/content/gdrive')"
      ],
      "execution_count": 11,
      "outputs": []
    },
    {
      "cell_type": "code",
      "metadata": {
        "id": "6VGIz2GL0wdQ",
        "colab_type": "code",
        "colab": {}
      },
      "source": [
        "# Set the default optimizer for the remaining portion of the script\n",
        "default_opt = Adam(learning_rate=0.001)"
      ],
      "execution_count": 12,
      "outputs": []
    },
    {
      "cell_type": "markdown",
      "metadata": {
        "id": "7FpOGdAAycte",
        "colab_type": "text"
      },
      "source": [
        "# **Section 1. Data Preparation**"
      ]
    },
    {
      "cell_type": "code",
      "metadata": {
        "id": "J27qwb8g00vg",
        "colab_type": "code",
        "colab": {
          "base_uri": "https://localhost:8080/",
          "height": 201
        },
        "outputId": "845b08e2-44a5-43dd-baa1-914dab93a719"
      },
      "source": [
        "# !kaggle competitions download -c siim-isic-melanoma-classification\n",
        "# !unzip siim-isic-melanoma-classification.zip"
      ],
      "execution_count": 13,
      "outputs": [
        {
          "output_type": "stream",
          "text": [
            "Traceback (most recent call last):\n",
            "  File \"/usr/local/bin/kaggle\", line 5, in <module>\n",
            "    from kaggle.cli import main\n",
            "  File \"/usr/local/lib/python2.7/dist-packages/kaggle/__init__.py\", line 23, in <module>\n",
            "    api.authenticate()\n",
            "  File \"/usr/local/lib/python2.7/dist-packages/kaggle/api/kaggle_api_extended.py\", line 146, in authenticate\n",
            "    self.config_file, self.config_dir))\n",
            "IOError: Could not find kaggle.json. Make sure it's located in /root/.kaggle. Or use the environment method.\n",
            "unzip:  cannot find or open siim-isic-melanoma-classification.zip, siim-isic-melanoma-classification.zip.zip or siim-isic-melanoma-classification.zip.ZIP.\n"
          ],
          "name": "stdout"
        }
      ]
    },
    {
      "cell_type": "code",
      "metadata": {
        "id": "0lHEaPrI5nX8",
        "colab_type": "code",
        "colab": {
          "resources": {
            "http://localhost:8080/nbextensions/google.colab/files.js": {
              "data": "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",
              "ok": true,
              "headers": [
                [
                  "content-type",
                  "application/javascript"
                ]
              ],
              "status": 200,
              "status_text": ""
            }
          },
          "base_uri": "https://localhost:8080/",
          "height": 295
        },
        "outputId": "18361d0e-7fd7-49ad-d32d-2b5fa7071eb0"
      },
      "source": [
        "!pip install kaggle\n",
        "from google.colab import files\n",
        "files.upload()"
      ],
      "execution_count": 15,
      "outputs": [
        {
          "output_type": "stream",
          "text": [
            "Requirement already satisfied: kaggle in /usr/local/lib/python3.6/dist-packages (1.5.6)\n",
            "Requirement already satisfied: six>=1.10 in /usr/local/lib/python3.6/dist-packages (from kaggle) (1.12.0)\n",
            "Requirement already satisfied: certifi in /usr/local/lib/python3.6/dist-packages (from kaggle) (2020.6.20)\n",
            "Requirement already satisfied: python-slugify in /usr/local/lib/python3.6/dist-packages (from kaggle) (4.0.0)\n",
            "Requirement already satisfied: python-dateutil in /usr/local/lib/python3.6/dist-packages (from kaggle) (2.8.1)\n",
            "Requirement already satisfied: requests in /usr/local/lib/python3.6/dist-packages (from kaggle) (2.23.0)\n",
            "Requirement already satisfied: tqdm in /usr/local/lib/python3.6/dist-packages (from kaggle) (4.41.1)\n",
            "Requirement already satisfied: urllib3<1.25,>=1.21.1 in /usr/local/lib/python3.6/dist-packages (from kaggle) (1.24.3)\n",
            "Requirement already satisfied: text-unidecode>=1.3 in /usr/local/lib/python3.6/dist-packages (from python-slugify->kaggle) (1.3)\n",
            "Requirement already satisfied: chardet<4,>=3.0.2 in /usr/local/lib/python3.6/dist-packages (from requests->kaggle) (3.0.4)\n",
            "Requirement already satisfied: idna<3,>=2.5 in /usr/local/lib/python3.6/dist-packages (from requests->kaggle) (2.9)\n"
          ],
          "name": "stdout"
        },
        {
          "output_type": "display_data",
          "data": {
            "text/html": [
              "\n",
              "     <input type=\"file\" id=\"files-761521f3-958c-42ed-8bde-dcad236fb595\" name=\"files[]\" multiple disabled\n",
              "        style=\"border:none\" />\n",
              "     <output id=\"result-761521f3-958c-42ed-8bde-dcad236fb595\">\n",
              "      Upload widget is only available when the cell has been executed in the\n",
              "      current browser session. Please rerun this cell to enable.\n",
              "      </output>\n",
              "      <script src=\"/nbextensions/google.colab/files.js\"></script> "
            ],
            "text/plain": [
              "<IPython.core.display.HTML object>"
            ]
          },
          "metadata": {
            "tags": []
          }
        },
        {
          "output_type": "stream",
          "text": [
            "Saving kaggle.json to kaggle.json\n"
          ],
          "name": "stdout"
        },
        {
          "output_type": "execute_result",
          "data": {
            "text/plain": [
              "{'kaggle.json': b'{\"username\":\"caualliswell\",\"key\":\"962dcfab4cd60c8fd1aba130fc0b9d2d\"}'}"
            ]
          },
          "metadata": {
            "tags": []
          },
          "execution_count": 15
        }
      ]
    },
    {
      "cell_type": "code",
      "metadata": {
        "id": "TyCjtfOx5wTU",
        "colab_type": "code",
        "colab": {
          "base_uri": "https://localhost:8080/",
          "height": 35
        },
        "outputId": "8684838e-24fc-41d9-931a-43091a53b56f"
      },
      "source": [
        "ls -1ha kaggle.json"
      ],
      "execution_count": 16,
      "outputs": [
        {
          "output_type": "stream",
          "text": [
            "kaggle.json\n"
          ],
          "name": "stdout"
        }
      ]
    },
    {
      "cell_type": "code",
      "metadata": {
        "id": "DY85aOb85xlH",
        "colab_type": "code",
        "colab": {
          "base_uri": "https://localhost:8080/",
          "height": 435
        },
        "outputId": "d5b94fa9-a1e7-4758-ba54-25ca81f3ce93"
      },
      "source": [
        "!mkdir -p ~/.kaggle\n",
        "!cp kaggle.json ~/.kaggle/\n",
        "# Permission Warning 이 일어나지 않도록 \n",
        "!chmod 600 ~/.kaggle/kaggle.json\n",
        "# 본인이 참가한 모든 대회 보기 \n",
        "!kaggle competitions list"
      ],
      "execution_count": 17,
      "outputs": [
        {
          "output_type": "stream",
          "text": [
            "Warning: Looks like you're using an outdated API Version, please consider updating (server 1.5.6 / client 1.5.4)\n",
            "ref                                            deadline             category            reward  teamCount  userHasEntered  \n",
            "---------------------------------------------  -------------------  ---------------  ---------  ---------  --------------  \n",
            "tpu-getting-started                            2030-06-03 23:59:00  Getting Started      Kudos        133           False  \n",
            "digit-recognizer                               2030-01-01 00:00:00  Getting Started  Knowledge       2980           False  \n",
            "titanic                                        2030-01-01 00:00:00  Getting Started  Knowledge      22949           False  \n",
            "house-prices-advanced-regression-techniques    2030-01-01 00:00:00  Getting Started  Knowledge       5023           False  \n",
            "connectx                                       2030-01-01 00:00:00  Getting Started  Knowledge        689           False  \n",
            "nlp-getting-started                            2030-01-01 00:00:00  Getting Started      Kudos       1465           False  \n",
            "competitive-data-science-predict-future-sales  2020-12-31 23:59:00  Playground           Kudos       7669           False  \n",
            "halite                                         2020-09-15 23:59:00  Featured              Swag        563           False  \n",
            "birdsong-recognition                           2020-09-15 23:59:00  Research           $25,000        283           False  \n",
            "landmark-retrieval-2020                        2020-08-17 23:59:00  Research           $25,000         53           False  \n",
            "siim-isic-melanoma-classification              2020-08-17 23:59:00  Featured           $30,000       1792            True  \n",
            "global-wheat-detection                         2020-08-04 23:59:00  Research           $15,000       1490           False  \n",
            "open-images-object-detection-rvc-2020          2020-07-31 16:00:00  Playground       Knowledge         48           False  \n",
            "open-images-instance-segmentation-rvc-2020     2020-07-31 16:00:00  Playground       Knowledge         10           False  \n",
            "hashcode-photo-slideshow                       2020-07-27 23:59:00  Playground       Knowledge         52           False  \n",
            "prostate-cancer-grade-assessment               2020-07-22 23:59:00  Featured           $25,000        794           False  \n",
            "alaska2-image-steganalysis                     2020-07-20 23:59:00  Research           $25,000        911           False  \n",
            "m5-forecasting-accuracy                        2020-06-30 23:59:00  Featured           $50,000       5558           False  \n",
            "m5-forecasting-uncertainty                     2020-06-30 23:59:00  Featured           $50,000        909           False  \n",
            "trends-assessment-prediction                   2020-06-29 23:59:00  Research           $25,000       1047           False  \n"
          ],
          "name": "stdout"
        }
      ]
    },
    {
      "cell_type": "code",
      "metadata": {
        "id": "c-GIDHxU7eZw",
        "colab_type": "code",
        "colab": {
          "base_uri": "https://localhost:8080/",
          "height": 1000
        },
        "outputId": "b2c83a31-cf04-40fb-be57-1e5369186dc5"
      },
      "source": [
        "! kaggle competitions download -c siim-isic-melanoma-classification"
      ],
      "execution_count": 18,
      "outputs": [
        {
          "output_type": "stream",
          "text": [
            "Warning: Looks like you're using an outdated API Version, please consider updating (server 1.5.6 / client 1.5.4)\n",
            "Downloading test12-687.tfrec.zip to /content\n",
            " 94% 178M/190M [00:02<00:00, 103MB/s] \n",
            "100% 190M/190M [00:02<00:00, 91.8MB/s]\n",
            "Downloading test07-687.tfrec.zip to /content\n",
            " 91% 172M/189M [00:01<00:00, 104MB/s] \n",
            "100% 189M/189M [00:01<00:00, 106MB/s]\n",
            "Downloading test11-687.tfrec.zip to /content\n",
            " 98% 185M/189M [00:02<00:00, 99.3MB/s]\n",
            "100% 189M/189M [00:02<00:00, 96.4MB/s]\n",
            "Downloading test03-687.tfrec.zip to /content\n",
            " 94% 177M/188M [00:01<00:00, 62.9MB/s]\n",
            "100% 188M/188M [00:01<00:00, 103MB/s] \n",
            "Downloading test06-687.tfrec.zip to /content\n",
            " 93% 177M/191M [00:02<00:00, 56.7MB/s]\n",
            "100% 191M/191M [00:02<00:00, 72.8MB/s]\n",
            "Downloading test13-687.tfrec.zip to /content\n",
            " 95% 179M/188M [00:01<00:00, 119MB/s]\n",
            "100% 188M/188M [00:02<00:00, 97.0MB/s]\n",
            "Downloading test05-687.tfrec.zip to /content\n",
            " 94% 178M/190M [00:02<00:00, 61.4MB/s]\n",
            "100% 190M/190M [00:03<00:00, 66.1MB/s]\n",
            "Downloading test01-687.tfrec.zip to /content\n",
            " 93% 174M/186M [00:02<00:00, 83.2MB/s]\n",
            "100% 186M/186M [00:02<00:00, 79.4MB/s]\n",
            "Downloading test10-687.tfrec.zip to /content\n",
            " 95% 180M/189M [00:01<00:00, 118MB/s]\n",
            "100% 189M/189M [00:01<00:00, 106MB/s]\n",
            "Downloading train03-2071.tfrec.zip to /content\n",
            "100% 554M/555M [00:05<00:00, 85.3MB/s]\n",
            "100% 555M/555M [00:05<00:00, 98.8MB/s]\n",
            "Downloading train02-2071.tfrec.zip to /content\n",
            "100% 553M/554M [00:05<00:00, 106MB/s] \n",
            "100% 554M/554M [00:05<00:00, 101MB/s]\n",
            "Downloading test00-687.tfrec.zip to /content\n",
            " 92% 172M/187M [00:01<00:00, 129MB/s]\n",
            "100% 187M/187M [00:01<00:00, 124MB/s]\n",
            "Downloading test02-687.tfrec.zip to /content\n",
            " 99% 187M/188M [00:01<00:00, 117MB/s] \n",
            "100% 188M/188M [00:01<00:00, 101MB/s]\n",
            "Downloading train00-2071.tfrec.zip to /content\n",
            " 99% 545M/553M [00:05<00:00, 81.4MB/s]\n",
            "100% 553M/553M [00:05<00:00, 97.8MB/s]\n",
            "Downloading test04-687.tfrec.zip to /content\n",
            " 96% 182M/190M [00:02<00:00, 82.5MB/s]\n",
            "100% 190M/190M [00:02<00:00, 82.1MB/s]\n",
            "Downloading test08-687.tfrec.zip to /content\n",
            " 96% 183M/190M [00:02<00:00, 59.7MB/s]\n",
            "100% 190M/190M [00:02<00:00, 83.9MB/s]\n",
            "Downloading test09-687.tfrec.zip to /content\n",
            " 98% 187M/191M [00:02<00:00, 85.3MB/s]\n",
            "100% 191M/191M [00:02<00:00, 87.4MB/s]\n",
            "Downloading test14-687.tfrec.zip to /content\n",
            " 95% 182M/192M [00:03<00:00, 28.0MB/s]\n",
            "100% 192M/192M [00:03<00:00, 61.5MB/s]\n",
            "Downloading test15-677.tfrec.zip to /content\n",
            " 92% 173M/187M [00:01<00:00, 91.8MB/s]\n",
            "100% 187M/187M [00:02<00:00, 93.9MB/s]\n",
            "Downloading train01-2071.tfrec.zip to /content\n",
            " 98% 546M/555M [00:05<00:00, 90.5MB/s]\n",
            "100% 555M/555M [00:05<00:00, 99.7MB/s]\n",
            "Downloading ISIC_0078712.dcm.zip to /content\n",
            "  0% 0.00/1.33M [00:00<?, ?B/s]\n",
            "100% 1.33M/1.33M [00:00<00:00, 80.6MB/s]\n",
            "Downloading ISIC_0052212.dcm.zip to /content\n",
            "  0% 0.00/1.36M [00:00<?, ?B/s]\n",
            "100% 1.36M/1.36M [00:00<00:00, 45.2MB/s]\n",
            "Downloading ISIC_0068279.dcm.zip to /content\n",
            "  0% 0.00/1.22M [00:00<?, ?B/s]\n",
            "100% 1.22M/1.22M [00:00<00:00, 84.0MB/s]\n",
            "Downloading ISIC_0080752.dcm.zip to /content\n",
            "  0% 0.00/0.99M [00:00<?, ?B/s]\n",
            "100% 0.99M/0.99M [00:00<00:00, 141MB/s]\n",
            "Downloading ISIC_0076545.dcm.zip to /content\n",
            "  0% 0.00/3.85M [00:00<?, ?B/s]\n",
            "100% 3.85M/3.85M [00:00<00:00, 122MB/s]\n",
            "Downloading ISIC_0076995.dcm.zip to /content\n",
            "  0% 0.00/1.38M [00:00<?, ?B/s]\n",
            "100% 1.38M/1.38M [00:00<00:00, 93.3MB/s]\n",
            "Downloading ISIC_0080512.dcm.zip to /content\n",
            "  0% 0.00/1.88M [00:00<?, ?B/s]\n",
            "100% 1.88M/1.88M [00:00<00:00, 62.1MB/s]\n",
            "Downloading ISIC_0074311.dcm.zip to /content\n",
            "  0% 0.00/1.42M [00:00<?, ?B/s]\n",
            "100% 1.42M/1.42M [00:00<00:00, 94.6MB/s]\n",
            "Downloading ISIC_0077735.dcm.zip to /content\n",
            "  0% 0.00/1.44M [00:00<?, ?B/s]\n",
            "100% 1.44M/1.44M [00:00<00:00, 202MB/s]\n",
            "Downloading ISIC_0077472.dcm.zip to /content\n",
            "  0% 0.00/1.84M [00:00<?, ?B/s]\n",
            "100% 1.84M/1.84M [00:00<00:00, 124MB/s]\n",
            "Downloading ISIC_0078703.dcm.zip to /content\n",
            "  0% 0.00/1.37M [00:00<?, ?B/s]\n",
            "100% 1.37M/1.37M [00:00<00:00, 193MB/s]\n",
            "Downloading ISIC_0080817.dcm to /content\n",
            "  0% 0.00/819k [00:00<?, ?B/s]\n",
            "100% 819k/819k [00:00<00:00, 54.2MB/s]\n",
            "Downloading ISIC_0079038.dcm.zip to /content\n",
            "  0% 0.00/2.41M [00:00<?, ?B/s]\n",
            "100% 2.41M/2.41M [00:00<00:00, 162MB/s]\n",
            "Downloading ISIC_0075663.dcm to /content\n",
            "  0% 0.00/858k [00:00<?, ?B/s]\n",
            "100% 858k/858k [00:00<00:00, 56.0MB/s]\n",
            "Downloading ISIC_0074542.dcm.zip to /content\n",
            "  0% 0.00/1.41M [00:00<?, ?B/s]\n",
            "100% 1.41M/1.41M [00:00<00:00, 94.9MB/s]\n",
            "Downloading ISIC_0076742.dcm.zip to /content\n",
            "  0% 0.00/1.65M [00:00<?, ?B/s]\n",
            "100% 1.65M/1.65M [00:00<00:00, 113MB/s]\n",
            "Downloading ISIC_0015719.dcm.zip to /content\n",
            "  0% 0.00/2.25M [00:00<?, ?B/s]\n",
            "100% 2.25M/2.25M [00:00<00:00, 154MB/s]\n",
            "Downloading ISIC_0076262.dcm.zip to /content\n",
            "  0% 0.00/1.35M [00:00<?, ?B/s]\n",
            "100% 1.35M/1.35M [00:00<00:00, 193MB/s]\n",
            "Downloading ISIC_0074268.dcm.zip to /content\n",
            "  0% 0.00/1.92M [00:00<?, ?B/s]\n",
            "100% 1.92M/1.92M [00:00<00:00, 122MB/s]\n",
            "Downloading ISIC_0075914.dcm.zip to /content\n",
            "  0% 0.00/1.23M [00:00<?, ?B/s]\n",
            "100% 1.23M/1.23M [00:00<00:00, 182MB/s]\n",
            "Downloading ISIC_0082785.dcm.zip to /content\n",
            "  0% 0.00/4.12M [00:00<?, ?B/s]\n",
            "100% 4.12M/4.12M [00:00<00:00, 137MB/s]\n",
            "Downloading ISIC_0074618.dcm.zip to /content\n",
            "  0% 0.00/1.08M [00:00<?, ?B/s]\n",
            "100% 1.08M/1.08M [00:00<00:00, 152MB/s]\n",
            "Downloading ISIC_0095790.dcm.zip to /content\n",
            "  0% 0.00/1.57M [00:00<?, ?B/s]\n",
            "100% 1.57M/1.57M [00:00<00:00, 106MB/s]\n",
            "Downloading ISIC_0058510.dcm.zip to /content\n",
            "  0% 0.00/1.36M [00:00<?, ?B/s]\n",
            "100% 1.36M/1.36M [00:00<00:00, 193MB/s]\n",
            "Downloading ISIC_0073502.dcm to /content\n",
            "  0% 0.00/709k [00:00<?, ?B/s]\n",
            "100% 709k/709k [00:00<00:00, 223MB/s]\n",
            "Downloading ISIC_0087243.dcm.zip to /content\n",
            "  0% 0.00/2.22M [00:00<?, ?B/s]\n",
            "100% 2.22M/2.22M [00:00<00:00, 171MB/s]\n",
            "Downloading ISIC_0076801.dcm.zip to /content\n",
            "  0% 0.00/1.35M [00:00<?, ?B/s]\n",
            "100% 1.35M/1.35M [00:00<00:00, 44.5MB/s]\n",
            "Downloading ISIC_0088167.dcm to /content\n",
            "  0% 0.00/955k [00:00<?, ?B/s]\n",
            "100% 955k/955k [00:00<00:00, 132MB/s]\n",
            "Downloading ISIC_0052060.dcm.zip to /content\n",
            "  0% 0.00/2.39M [00:00<?, ?B/s]\n",
            "100% 2.39M/2.39M [00:00<00:00, 78.7MB/s]\n",
            "Downloading ISIC_0082004.dcm to /content\n",
            "  0% 0.00/873k [00:00<?, ?B/s]\n",
            "100% 873k/873k [00:00<00:00, 123MB/s]\n",
            "Downloading ISIC_0077586.dcm to /content\n",
            "  0% 0.00/901k [00:00<?, ?B/s]\n",
            "100% 901k/901k [00:00<00:00, 58.4MB/s]\n",
            "Downloading ISIC_0092481.dcm.zip to /content\n",
            "  0% 0.00/1.65M [00:00<?, ?B/s]\n",
            "100% 1.65M/1.65M [00:00<00:00, 54.7MB/s]\n",
            "Downloading ISIC_0090283.dcm.zip to /content\n",
            "  0% 0.00/1.02M [00:00<?, ?B/s]\n",
            "100% 1.02M/1.02M [00:00<00:00, 145MB/s]\n",
            "Downloading ISIC_0089356.dcm.zip to /content\n",
            "  0% 0.00/1.15M [00:00<?, ?B/s]\n",
            "100% 1.15M/1.15M [00:00<00:00, 38.3MB/s]\n",
            "Downloading ISIC_0097719.dcm.zip to /content\n",
            "  0% 0.00/1.54M [00:00<?, ?B/s]\n",
            "100% 1.54M/1.54M [00:00<00:00, 104MB/s]\n",
            "Downloading ISIC_0095455.dcm.zip to /content\n",
            "  0% 0.00/1.93M [00:00<?, ?B/s]\n",
            "100% 1.93M/1.93M [00:00<00:00, 131MB/s]\n",
            "Downloading ISIC_0073313.dcm.zip to /content\n",
            "  0% 0.00/1.34M [00:00<?, ?B/s]\n",
            "100% 1.34M/1.34M [00:00<00:00, 22.1MB/s]\n",
            "Downloading ISIC_0052349.dcm.zip to /content\n",
            "  0% 0.00/1.32M [00:00<?, ?B/s]\n",
            "100% 1.32M/1.32M [00:00<00:00, 39.1MB/s]\n",
            "Downloading ISIC_0099348.dcm to /content\n",
            "  0% 0.00/858k [00:00<?, ?B/s]\n",
            "100% 858k/858k [00:00<00:00, 56.7MB/s]\n",
            "Downloading ISIC_0085332.dcm.zip to /content\n",
            "  0% 0.00/1.84M [00:00<?, ?B/s]\n",
            "100% 1.84M/1.84M [00:00<00:00, 60.7MB/s]\n",
            "Downloading ISIC_0080817.jpg to /content\n",
            "  0% 0.00/711k [00:00<?, ?B/s]\n",
            "100% 711k/711k [00:00<00:00, 47.2MB/s]\n",
            "Downloading ISIC_0079038.jpg.zip to /content\n",
            "  0% 0.00/1.93M [00:00<?, ?B/s]\n",
            "100% 1.93M/1.93M [00:00<00:00, 63.3MB/s]\n",
            "Downloading ISIC_0078703.jpg.zip to /content\n",
            "  0% 0.00/1.12M [00:00<?, ?B/s]\n",
            "100% 1.12M/1.12M [00:00<00:00, 36.7MB/s]\n",
            "Downloading ISIC_0076262.jpg.zip to /content\n",
            "  0% 0.00/1.10M [00:00<?, ?B/s]\n",
            "100% 1.10M/1.10M [00:00<00:00, 160MB/s]\n",
            "Downloading ISIC_0080752.jpg to /content\n",
            "  0% 0.00/837k [00:00<?, ?B/s]\n",
            "100% 837k/837k [00:00<00:00, 26.6MB/s]\n",
            "Downloading ISIC_0068279.jpg to /content\n",
            "  0% 0.00/211k [00:00<?, ?B/s]\n",
            "100% 211k/211k [00:00<00:00, 69.1MB/s]\n",
            "Downloading ISIC_0076545.jpg to /content\n",
            "  0% 0.00/512k [00:00<?, ?B/s]\n",
            "100% 512k/512k [00:00<00:00, 72.7MB/s]\n",
            "Downloading ISIC_0052212.jpg to /content\n",
            "  0% 0.00/135k [00:00<?, ?B/s]\n",
            "100% 135k/135k [00:00<00:00, 42.0MB/s]\n",
            "Downloading ISIC_0075914.jpg.zip to /content\n",
            "  0% 0.00/973k [00:00<?, ?B/s]\n",
            "100% 973k/973k [00:00<00:00, 30.8MB/s]\n",
            "Downloading ISIC_0076995.jpg to /content\n",
            "  0% 0.00/137k [00:00<?, ?B/s]\n",
            "100% 137k/137k [00:00<00:00, 44.0MB/s]\n",
            "Downloading ISIC_0077735.jpg.zip to /content\n",
            "  0% 0.00/1.17M [00:00<?, ?B/s]\n",
            "100% 1.17M/1.17M [00:00<00:00, 37.7MB/s]\n",
            "Downloading ISIC_0015719.jpg.zip to /content\n",
            "  0% 0.00/1.79M [00:00<?, ?B/s]\n",
            "100% 1.79M/1.79M [00:00<00:00, 117MB/s]\n",
            "Downloading ISIC_0074268.jpg.zip to /content\n",
            "  0% 0.00/1.53M [00:00<?, ?B/s]\n",
            "100% 1.53M/1.53M [00:00<00:00, 100MB/s]\n",
            "Downloading ISIC_0080512.jpg.zip to /content\n",
            "  0% 0.00/1.52M [00:00<?, ?B/s]\n",
            "100% 1.52M/1.52M [00:00<00:00, 49.9MB/s]\n",
            "Downloading ISIC_0075663.jpg to /content\n",
            "  0% 0.00/353k [00:00<?, ?B/s]\n",
            "100% 353k/353k [00:00<00:00, 110MB/s]\n",
            "Downloading ISIC_0074311.jpg.zip to /content\n",
            "  0% 0.00/1.13M [00:00<?, ?B/s]\n",
            "100% 1.13M/1.13M [00:00<00:00, 36.8MB/s]\n",
            "Downloading ISIC_0076742.jpg.zip to /content\n",
            "  0% 0.00/1.33M [00:00<?, ?B/s]\n",
            "100% 1.33M/1.33M [00:00<00:00, 43.6MB/s]\n",
            "Downloading ISIC_0078712.jpg to /content\n",
            "  0% 0.00/565k [00:00<?, ?B/s]\n",
            "100% 565k/565k [00:00<00:00, 36.6MB/s]\n",
            "Downloading ISIC_0077472.jpg.zip to /content\n",
            "  0% 0.00/1.47M [00:00<?, ?B/s]\n",
            "100% 1.47M/1.47M [00:00<00:00, 98.9MB/s]\n",
            "Downloading ISIC_0074542.jpg.zip to /content\n",
            "  0% 0.00/1.14M [00:00<?, ?B/s]\n",
            "100% 1.14M/1.14M [00:00<00:00, 69.5MB/s]\n",
            "Downloading ISIC_0082785.jpg to /content\n",
            "  0% 0.00/675k [00:00<?, ?B/s]\n",
            "100% 675k/675k [00:00<00:00, 44.5MB/s]\n",
            "Downloading ISIC_0073502.jpg to /content\n",
            "  0% 0.00/151k [00:00<?, ?B/s]\n",
            "100% 151k/151k [00:00<00:00, 47.8MB/s]\n",
            "Downloading ISIC_0074618.jpg to /content\n",
            "  0% 0.00/119k [00:00<?, ?B/s]\n",
            "100% 119k/119k [00:00<00:00, 123MB/s]\n",
            "Downloading ISIC_0085332.jpg.zip to /content\n",
            "  0% 0.00/1.52M [00:00<?, ?B/s]\n",
            "100% 1.52M/1.52M [00:00<00:00, 50.1MB/s]\n",
            "Downloading ISIC_0095790.jpg.zip to /content\n",
            "  0% 0.00/1.29M [00:00<?, ?B/s]\n",
            "100% 1.29M/1.29M [00:00<00:00, 42.2MB/s]\n",
            "Downloading ISIC_0087243.jpg.zip to /content\n",
            "  0% 0.00/1.82M [00:00<?, ?B/s]\n",
            "100% 1.82M/1.82M [00:00<00:00, 60.0MB/s]\n",
            "Downloading ISIC_0090283.jpg to /content\n",
            "  0% 0.00/255k [00:00<?, ?B/s]\n",
            "100% 255k/255k [00:00<00:00, 83.4MB/s]\n",
            "Downloading ISIC_0077586.jpg to /content\n",
            "  0% 0.00/208k [00:00<?, ?B/s]\n",
            "100% 208k/208k [00:00<00:00, 59.9MB/s]\n",
            "Downloading ISIC_0073313.jpg.zip to /content\n",
            "  0% 0.00/1.08M [00:00<?, ?B/s]\n",
            "100% 1.08M/1.08M [00:00<00:00, 35.6MB/s]\n",
            "Downloading ISIC_0058510.jpg.zip to /content\n",
            "  0% 0.00/1.05M [00:00<?, ?B/s]\n",
            "100% 1.05M/1.05M [00:00<00:00, 151MB/s]\n",
            "Downloading ISIC_0082004.jpg to /content\n",
            "  0% 0.00/195k [00:00<?, ?B/s]\n",
            "100% 195k/195k [00:00<00:00, 199MB/s]\n",
            "Downloading ISIC_0092481.jpg.zip to /content\n",
            "  0% 0.00/1.35M [00:00<?, ?B/s]\n",
            "100% 1.35M/1.35M [00:00<00:00, 22.2MB/s]\n",
            "Downloading ISIC_0097719.jpg to /content\n",
            "  0% 0.00/671k [00:00<?, ?B/s]\n",
            "100% 671k/671k [00:00<00:00, 43.5MB/s]\n",
            "Downloading ISIC_0052060.jpg.zip to /content\n",
            "  0% 0.00/1.98M [00:00<?, ?B/s]\n",
            "100% 1.98M/1.98M [00:00<00:00, 65.4MB/s]\n",
            "Downloading ISIC_0095455.jpg.zip to /content\n",
            "  0% 0.00/1.54M [00:00<?, ?B/s]\n",
            "100% 1.54M/1.54M [00:00<00:00, 105MB/s]\n",
            "Downloading ISIC_0052349.jpg.zip to /content\n",
            "  0% 0.00/1.07M [00:00<?, ?B/s]\n",
            "100% 1.07M/1.07M [00:00<00:00, 152MB/s]\n",
            "Downloading ISIC_0089356.jpg to /content\n",
            "  0% 0.00/0.99M [00:00<?, ?B/s]\n",
            "100% 0.99M/0.99M [00:00<00:00, 31.4MB/s]\n",
            "Downloading ISIC_0088167.jpg to /content\n",
            "  0% 0.00/217k [00:00<?, ?B/s]\n",
            "100% 217k/217k [00:00<00:00, 196MB/s]\n",
            "Downloading ISIC_0076801.jpg to /content\n",
            "  0% 0.00/130k [00:00<?, ?B/s]\n",
            "100% 130k/130k [00:00<00:00, 117MB/s]\n",
            "Downloading ISIC_0099348.jpg to /content\n",
            "  0% 0.00/346k [00:00<?, ?B/s]\n",
            "100% 346k/346k [00:00<00:00, 48.5MB/s]\n",
            "Downloading sample_submission.csv to /content\n",
            "  0% 0.00/161k [00:00<?, ?B/s]\n",
            "100% 161k/161k [00:00<00:00, 49.8MB/s]\n",
            "Downloading train.csv.zip to /content\n",
            "  0% 0.00/339k [00:00<?, ?B/s]\n",
            "100% 339k/339k [00:00<00:00, 94.4MB/s]\n",
            "Downloading test.csv to /content\n",
            "  0% 0.00/479k [00:00<?, ?B/s]\n",
            "100% 479k/479k [00:00<00:00, 67.8MB/s]\n"
          ],
          "name": "stdout"
        }
      ]
    },
    {
      "cell_type": "code",
      "metadata": {
        "id": "gULXEwg47tO7",
        "colab_type": "code",
        "colab": {
          "base_uri": "https://localhost:8080/",
          "height": 672
        },
        "outputId": "f4b70318-6ad7-46e5-fac3-c8f54f964dd4"
      },
      "source": [
        "!ls"
      ],
      "execution_count": 19,
      "outputs": [
        {
          "output_type": "stream",
          "text": [
            "drive\t\t      ISIC_0076801.jpg\t    ISIC_0092481.jpg.zip\n",
            "ISIC_0015719.dcm.zip  ISIC_0076995.dcm.zip  ISIC_0095455.dcm.zip\n",
            "ISIC_0015719.jpg.zip  ISIC_0076995.jpg\t    ISIC_0095455.jpg.zip\n",
            "ISIC_0052060.dcm.zip  ISIC_0077472.dcm.zip  ISIC_0095790.dcm.zip\n",
            "ISIC_0052060.jpg.zip  ISIC_0077472.jpg.zip  ISIC_0095790.jpg.zip\n",
            "ISIC_0052212.dcm.zip  ISIC_0077586.dcm\t    ISIC_0097719.dcm.zip\n",
            "ISIC_0052212.jpg      ISIC_0077586.jpg\t    ISIC_0097719.jpg\n",
            "ISIC_0052349.dcm.zip  ISIC_0077735.dcm.zip  ISIC_0099348.dcm\n",
            "ISIC_0052349.jpg.zip  ISIC_0077735.jpg.zip  ISIC_0099348.jpg\n",
            "ISIC_0058510.dcm.zip  ISIC_0078703.dcm.zip  kaggle.json\n",
            "ISIC_0058510.jpg.zip  ISIC_0078703.jpg.zip  sample_data\n",
            "ISIC_0068279.dcm.zip  ISIC_0078712.dcm.zip  sample_submission.csv\n",
            "ISIC_0068279.jpg      ISIC_0078712.jpg\t    test00-687.tfrec.zip\n",
            "ISIC_0073313.dcm.zip  ISIC_0079038.dcm.zip  test01-687.tfrec.zip\n",
            "ISIC_0073313.jpg.zip  ISIC_0079038.jpg.zip  test02-687.tfrec.zip\n",
            "ISIC_0073502.dcm      ISIC_0080512.dcm.zip  test03-687.tfrec.zip\n",
            "ISIC_0073502.jpg      ISIC_0080512.jpg.zip  test04-687.tfrec.zip\n",
            "ISIC_0074268.dcm.zip  ISIC_0080752.dcm.zip  test05-687.tfrec.zip\n",
            "ISIC_0074268.jpg.zip  ISIC_0080752.jpg\t    test06-687.tfrec.zip\n",
            "ISIC_0074311.dcm.zip  ISIC_0080817.dcm\t    test07-687.tfrec.zip\n",
            "ISIC_0074311.jpg.zip  ISIC_0080817.jpg\t    test08-687.tfrec.zip\n",
            "ISIC_0074542.dcm.zip  ISIC_0082004.dcm\t    test09-687.tfrec.zip\n",
            "ISIC_0074542.jpg.zip  ISIC_0082004.jpg\t    test10-687.tfrec.zip\n",
            "ISIC_0074618.dcm.zip  ISIC_0082785.dcm.zip  test11-687.tfrec.zip\n",
            "ISIC_0074618.jpg      ISIC_0082785.jpg\t    test12-687.tfrec.zip\n",
            "ISIC_0075663.dcm      ISIC_0085332.dcm.zip  test13-687.tfrec.zip\n",
            "ISIC_0075663.jpg      ISIC_0085332.jpg.zip  test14-687.tfrec.zip\n",
            "ISIC_0075914.dcm.zip  ISIC_0087243.dcm.zip  test15-677.tfrec.zip\n",
            "ISIC_0075914.jpg.zip  ISIC_0087243.jpg.zip  test.csv\n",
            "ISIC_0076262.dcm.zip  ISIC_0088167.dcm\t    train00-2071.tfrec.zip\n",
            "ISIC_0076262.jpg.zip  ISIC_0088167.jpg\t    train01-2071.tfrec.zip\n",
            "ISIC_0076545.dcm.zip  ISIC_0089356.dcm.zip  train02-2071.tfrec.zip\n",
            "ISIC_0076545.jpg      ISIC_0089356.jpg\t    train03-2071.tfrec.zip\n",
            "ISIC_0076742.dcm.zip  ISIC_0090283.dcm.zip  train.csv.zip\n",
            "ISIC_0076742.jpg.zip  ISIC_0090283.jpg\n",
            "ISIC_0076801.dcm.zip  ISIC_0092481.dcm.zip\n"
          ],
          "name": "stdout"
        }
      ]
    },
    {
      "cell_type": "code",
      "metadata": {
        "id": "rz6D0BUo72Vb",
        "colab_type": "code",
        "colab": {}
      },
      "source": [
        "!unzip siim-isic-melanoma-classification.zip"
      ],
      "execution_count": null,
      "outputs": []
    },
    {
      "cell_type": "code",
      "metadata": {
        "id": "LGT6J2tBARGm",
        "colab_type": "code",
        "colab": {
          "resources": {
            "http://localhost:8080/nbextensions/google.colab/files.js": {
              "data": "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",
              "ok": true,
              "headers": [
                [
                  "content-type",
                  "application/javascript"
                ]
              ],
              "status": 200,
              "status_text": ""
            }
          },
          "base_uri": "https://localhost:8080/",
          "height": 95
        },
        "outputId": "4fe38386-059e-4587-8d80-0a377c42acaa"
      },
      "source": [
        "# Run this cell and select the kaggle.json file downloaded\n",
        "# from the Kaggle account settings page.\n",
        "from google.colab import files\n",
        "files.upload()"
      ],
      "execution_count": 20,
      "outputs": [
        {
          "output_type": "display_data",
          "data": {
            "text/html": [
              "\n",
              "     <input type=\"file\" id=\"files-0db4a69b-5f7c-4d41-8550-7e8cabbe8e10\" name=\"files[]\" multiple disabled\n",
              "        style=\"border:none\" />\n",
              "     <output id=\"result-0db4a69b-5f7c-4d41-8550-7e8cabbe8e10\">\n",
              "      Upload widget is only available when the cell has been executed in the\n",
              "      current browser session. Please rerun this cell to enable.\n",
              "      </output>\n",
              "      <script src=\"/nbextensions/google.colab/files.js\"></script> "
            ],
            "text/plain": [
              "<IPython.core.display.HTML object>"
            ]
          },
          "metadata": {
            "tags": []
          }
        },
        {
          "output_type": "stream",
          "text": [
            "Saving kaggle.json to kaggle (1).json\n"
          ],
          "name": "stdout"
        },
        {
          "output_type": "execute_result",
          "data": {
            "text/plain": [
              "{'kaggle.json': b'{\"username\":\"caualliswell\",\"key\":\"962dcfab4cd60c8fd1aba130fc0b9d2d\"}'}"
            ]
          },
          "metadata": {
            "tags": []
          },
          "execution_count": 20
        }
      ]
    },
    {
      "cell_type": "code",
      "metadata": {
        "id": "pEwBam6NAS3l",
        "colab_type": "code",
        "colab": {
          "base_uri": "https://localhost:8080/",
          "height": 35
        },
        "outputId": "50e22310-0a79-4cdf-8ff9-ada731f3c10e"
      },
      "source": [
        "# Let's make sure the kaggle.json file is present.\n",
        "!ls -lha kaggle.json"
      ],
      "execution_count": 21,
      "outputs": [
        {
          "output_type": "stream",
          "text": [
            "-rw-r--r-- 1 root root 68 Jul  7 10:51 kaggle.json\n"
          ],
          "name": "stdout"
        }
      ]
    },
    {
      "cell_type": "code",
      "metadata": {
        "id": "Cuast6qWAT_K",
        "colab_type": "code",
        "colab": {}
      },
      "source": [
        "# Next, install the Kaggle API client.\n",
        "!pip install -q kaggle"
      ],
      "execution_count": 22,
      "outputs": []
    },
    {
      "cell_type": "code",
      "metadata": {
        "id": "PtQMh-epAVAy",
        "colab_type": "code",
        "colab": {}
      },
      "source": [
        "# The Kaggle API client expects this file to be in ~/.kaggle,\n",
        "# so move it there.\n",
        "!mkdir -p ~/.kaggle\n",
        "!cp kaggle.json ~/.kaggle/\n",
        "\n",
        "# This permissions change avoids a warning on Kaggle tool startup.\n",
        "!chmod 600 ~/.kaggle/kaggle.json"
      ],
      "execution_count": 23,
      "outputs": []
    },
    {
      "cell_type": "code",
      "metadata": {
        "id": "iIJXQxVFAWFc",
        "colab_type": "code",
        "colab": {
          "base_uri": "https://localhost:8080/",
          "height": 435
        },
        "outputId": "b59bce3b-47f1-4ae7-8406-f82b2c0dc46b"
      },
      "source": [
        "# List available datasets.\n",
        "!kaggle datasets list"
      ],
      "execution_count": 24,
      "outputs": [
        {
          "output_type": "stream",
          "text": [
            "Warning: Looks like you're using an outdated API Version, please consider updating (server 1.5.6 / client 1.5.4)\n",
            "ref                                                           title                                                size  lastUpdated          downloadCount  \n",
            "------------------------------------------------------------  --------------------------------------------------  -----  -------------------  -------------  \n",
            "allen-institute-for-ai/CORD-19-research-challenge             COVID-19 Open Research Dataset Challenge (CORD-19)    3GB  2020-07-06 18:49:31          86049  \n",
            "roche-data-science-coalition/uncover                          UNCOVER COVID-19 Challenge                          179MB  2020-05-21 18:57:53          14958  \n",
            "oleksastepaniuk/prozorro-public-procurement-dataset           ProZorro. Ukrainian public procurement dataset      448MB  2020-04-15 17:09:37              4  \n",
            "navinmundhra/daily-power-generation-in-india-20172020         Daily Power Generation in India (2017-2020)          63KB  2020-06-29 17:13:29             58  \n",
            "mrmorj/data-police-shootings                                  Data Police shootings                               130KB  2020-06-17 18:19:37            100  \n",
            "nareshbhat/health-care-data-set-on-heart-attack-possibility   Health care: Data set on Heart attack possibility     3KB  2020-06-25 07:11:26            115  \n",
            "parulpandey/covid19-clinical-trials-dataset                   COVID-19 Clinical Trials dataset                     11MB  2020-07-04 14:07:06             58  \n",
            "miguelaenlle/massive-stock-news-analysis-db-for-nlpbacktests  Daily Financial News for 6000+ Stocks               210MB  2020-07-04 04:06:43             90  \n",
            "imdevskp/cholera-dataset                                      Cholera Dataset                                      21KB  2020-07-01 17:28:18             30  \n",
            "imdevskp/malaria-dataset                                      Malaria Dataset                                      52KB  2020-07-01 17:28:22             41  \n",
            "mathchi/online-retail-data-set-from-ml-repository             Online Retail Data Set from ML Repository             1KB  2020-07-05 18:53:40             22  \n",
            "mathurinache/world-happiness-report                           World Happiness Report up to 2020                    54KB  2020-06-30 15:26:17             97  \n",
            "bahramjannesarr/goodreads-book-datasets-10m                   Goodreads Book Datasets 10M                         539MB  2020-07-06 14:40:13             21  \n",
            "dorianlazar/medium-articles-dataset                           Medium articles dataset                               1GB  2020-06-30 14:13:56             15  \n",
            "benroshan/factors-affecting-campus-placement                  Campus Recruitment                                    5KB  2020-04-11 11:09:02          10379  \n",
            "bobbyscience/league-of-legends-diamond-ranked-games-10-min    League of Legends Diamond Ranked Games (10 min)     539KB  2020-04-13 13:53:02           4300  \n",
            "fireballbyedimyrnmom/us-counties-covid-19-dataset             US counties COVID 19 dataset                          3MB  2020-07-06 12:02:04           9616  \n",
            "divyansh22/flight-delay-prediction                            January Flight Delay Prediction                      23MB  2020-04-14 13:15:41           3532  \n",
            "clmentbisaillon/fake-and-real-news-dataset                    Fake and real news dataset                           41MB  2020-03-26 18:51:15           8842  \n",
            "ikiulian/global-hospital-beds-capacity-for-covid19            Global Hospital Beds Capacity (for covid-19)        284KB  2020-04-26 09:39:35           3117  \n"
          ],
          "name": "stdout"
        }
      ]
    },
    {
      "cell_type": "code",
      "metadata": {
        "id": "CHjmjLxMAX0q",
        "colab_type": "code",
        "colab": {
          "base_uri": "https://localhost:8080/",
          "height": 890
        },
        "outputId": "91453057-19b8-4b87-c762-bfd59989c249"
      },
      "source": [
        "# Copy the stackoverflow data set locally.\n",
        "# !kaggle datasets download -d siim-isic-melanoma-classification\n",
        "! kaggle competitions download -c siim-isic-melanoma-classification"
      ],
      "execution_count": 26,
      "outputs": [
        {
          "output_type": "stream",
          "text": [
            "Warning: Looks like you're using an outdated API Version, please consider updating (server 1.5.6 / client 1.5.4)\n",
            "ISIC_0058510.jpg.zip: Skipping, found more recently modified local copy (use --force to force download)\n",
            "ISIC_0099348.jpg: Skipping, found more recently modified local copy (use --force to force download)\n",
            "ISIC_0082785.jpg: Skipping, found more recently modified local copy (use --force to force download)\n",
            "ISIC_0052060.jpg.zip: Skipping, found more recently modified local copy (use --force to force download)\n",
            "ISIC_0076801.jpg: Skipping, found more recently modified local copy (use --force to force download)\n",
            "ISIC_0073502.jpg: Skipping, found more recently modified local copy (use --force to force download)\n",
            "ISIC_0087243.jpg.zip: Skipping, found more recently modified local copy (use --force to force download)\n",
            "ISIC_0074618.jpg: Skipping, found more recently modified local copy (use --force to force download)\n",
            "ISIC_0077586.jpg: Skipping, found more recently modified local copy (use --force to force download)\n",
            "ISIC_0082004.jpg: Skipping, found more recently modified local copy (use --force to force download)\n",
            "ISIC_0088167.jpg: Skipping, found more recently modified local copy (use --force to force download)\n",
            "ISIC_0095455.jpg.zip: Skipping, found more recently modified local copy (use --force to force download)\n",
            "ISIC_0073313.jpg.zip: Skipping, found more recently modified local copy (use --force to force download)\n",
            "ISIC_0092481.jpg.zip: Skipping, found more recently modified local copy (use --force to force download)\n",
            "ISIC_0089356.jpg: Skipping, found more recently modified local copy (use --force to force download)\n",
            "ISIC_0085332.jpg.zip: Skipping, found more recently modified local copy (use --force to force download)\n",
            "ISIC_0090283.jpg: Skipping, found more recently modified local copy (use --force to force download)\n",
            "ISIC_0097719.jpg: Skipping, found more recently modified local copy (use --force to force download)\n",
            "ISIC_0052349.jpg.zip: Skipping, found more recently modified local copy (use --force to force download)\n",
            "ISIC_0095790.jpg.zip: Skipping, found more recently modified local copy (use --force to force download)\n",
            "ISIC_0076545.jpg: Skipping, found more recently modified local copy (use --force to force download)\n",
            "ISIC_0080752.jpg: Skipping, found more recently modified local copy (use --force to force download)\n",
            "ISIC_0074311.jpg.zip: Skipping, found more recently modified local copy (use --force to force download)\n",
            "ISIC_0015719.jpg.zip: Skipping, found more recently modified local copy (use --force to force download)\n",
            "ISIC_0078703.jpg.zip: Skipping, found more recently modified local copy (use --force to force download)\n",
            "ISIC_0075663.jpg: Skipping, found more recently modified local copy (use --force to force download)\n",
            "ISIC_0074268.jpg.zip: Skipping, found more recently modified local copy (use --force to force download)\n",
            "ISIC_0079038.jpg.zip: Skipping, found more recently modified local copy (use --force to force download)\n",
            "ISIC_0077472.jpg.zip: Skipping, found more recently modified local copy (use --force to force download)\n",
            "ISIC_0075914.jpg.zip: Skipping, found more recently modified local copy (use --force to force download)\n",
            "ISIC_0078712.jpg: Skipping, found more recently modified local copy (use --force to force download)\n",
            "ISIC_0076742.jpg.zip: Skipping, found more recently modified local copy (use --force to force download)\n",
            "ISIC_0052212.jpg: Skipping, found more recently modified local copy (use --force to force download)\n",
            "ISIC_0080817.jpg: Skipping, found more recently modified local copy (use --force to force download)\n",
            "ISIC_0076262.jpg.zip: Skipping, found more recently modified local copy (use --force to force download)\n",
            "ISIC_0074542.jpg.zip: Skipping, found more recently modified local copy (use --force to force download)\n",
            "ISIC_0068279.jpg: Skipping, found more recently modified local copy (use --force to force download)\n",
            "ISIC_0080512.jpg.zip: Skipping, found more recently modified local copy (use --force to force download)\n",
            "ISIC_0077735.jpg.zip: Skipping, found more recently modified local copy (use --force to force download)\n",
            "ISIC_0076995.jpg: Skipping, found more recently modified local copy (use --force to force download)\n",
            "ISIC_0095455.dcm.zip: Skipping, found more recently modified local copy (use --force to force download)\n",
            "ISIC_0082785.dcm.zip: Skipping, found more recently modified local copy (use --force to force download)\n",
            "ISIC_0095790.dcm.zip: Skipping, found more recently modified local copy (use --force to force download)\n",
            "ISIC_0092481.dcm.zip: Skipping, found more recently modified local copy (use --force to force download)\n",
            "ISIC_0090283.dcm.zip: Skipping, found more recently modified local copy (use --force to force download)\n",
            "ISIC_0085332.dcm.zip: Skipping, found more recently modified local copy (use --force to force download)\n",
            "429 - Too Many Requests\n"
          ],
          "name": "stdout"
        }
      ]
    },
    {
      "cell_type": "code",
      "metadata": {
        "id": "Jv38qivdAYxX",
        "colab_type": "code",
        "colab": {}
      },
      "source": [
        "# !head ~/.kaggle/datasets/stackoverflow/stack-overflow-2018-developer-survey/survey_results_public.csv"
      ],
      "execution_count": null,
      "outputs": []
    },
    {
      "cell_type": "code",
      "metadata": {
        "id": "fsF0kJ1C01tN",
        "colab_type": "code",
        "colab": {
          "base_uri": "https://localhost:8080/",
          "height": 495
        },
        "outputId": "69a9ef34-36b9-47d9-fac8-d91e06bcec3b"
      },
      "source": [
        "# plot dog photos from the dogs vs cats dataset\n",
        "\n",
        "# define location of dataset\n",
        "folder = 'jpeg/train/'\n",
        "# plot first few images\n",
        "for i in range(9):\n",
        "\t# define subplot\n",
        "\tpyplot.subplot(330 + 1 + i)\n",
        "\t# define filename\n",
        "\tfilename = folder + 'ISIC_0015719' + '.jpg'\n",
        "\t# load image pixels\n",
        "\timage = imread(filename)\n",
        "\t# plot raw pixel data\n",
        "\tpyplot.imshow(image)\n",
        "# show the figure\n",
        "pyplot.show()"
      ],
      "execution_count": 14,
      "outputs": [
        {
          "output_type": "error",
          "ename": "FileNotFoundError",
          "evalue": "ignored",
          "traceback": [
            "\u001b[0;31m---------------------------------------------------------------------------\u001b[0m",
            "\u001b[0;31mFileNotFoundError\u001b[0m                         Traceback (most recent call last)",
            "\u001b[0;32m<ipython-input-14-d1f747f186ec>\u001b[0m in \u001b[0;36m<module>\u001b[0;34m()\u001b[0m\n\u001b[1;32m     10\u001b[0m         \u001b[0mfilename\u001b[0m \u001b[0;34m=\u001b[0m \u001b[0mfolder\u001b[0m \u001b[0;34m+\u001b[0m \u001b[0;34m'ISIC_0015719'\u001b[0m \u001b[0;34m+\u001b[0m \u001b[0;34m'.jpg'\u001b[0m\u001b[0;34m\u001b[0m\u001b[0;34m\u001b[0m\u001b[0m\n\u001b[1;32m     11\u001b[0m         \u001b[0;31m# load image pixels\u001b[0m\u001b[0;34m\u001b[0m\u001b[0;34m\u001b[0m\u001b[0;34m\u001b[0m\u001b[0m\n\u001b[0;32m---> 12\u001b[0;31m         \u001b[0mimage\u001b[0m \u001b[0;34m=\u001b[0m \u001b[0mimread\u001b[0m\u001b[0;34m(\u001b[0m\u001b[0mfilename\u001b[0m\u001b[0;34m)\u001b[0m\u001b[0;34m\u001b[0m\u001b[0;34m\u001b[0m\u001b[0m\n\u001b[0m\u001b[1;32m     13\u001b[0m         \u001b[0;31m# plot raw pixel data\u001b[0m\u001b[0;34m\u001b[0m\u001b[0;34m\u001b[0m\u001b[0;34m\u001b[0m\u001b[0m\n\u001b[1;32m     14\u001b[0m         \u001b[0mpyplot\u001b[0m\u001b[0;34m.\u001b[0m\u001b[0mimshow\u001b[0m\u001b[0;34m(\u001b[0m\u001b[0mimage\u001b[0m\u001b[0;34m)\u001b[0m\u001b[0;34m\u001b[0m\u001b[0;34m\u001b[0m\u001b[0m\n",
            "\u001b[0;32m/usr/local/lib/python3.6/dist-packages/matplotlib/image.py\u001b[0m in \u001b[0;36mimread\u001b[0;34m(fname, format)\u001b[0m\n\u001b[1;32m   1462\u001b[0m             raise ValueError('Only know how to handle PNG; with Pillow '\n\u001b[1;32m   1463\u001b[0m                              'installed, Matplotlib can handle more images')\n\u001b[0;32m-> 1464\u001b[0;31m         \u001b[0;32mwith\u001b[0m \u001b[0mImage\u001b[0m\u001b[0;34m.\u001b[0m\u001b[0mopen\u001b[0m\u001b[0;34m(\u001b[0m\u001b[0mfname\u001b[0m\u001b[0;34m)\u001b[0m \u001b[0;32mas\u001b[0m \u001b[0mimage\u001b[0m\u001b[0;34m:\u001b[0m\u001b[0;34m\u001b[0m\u001b[0;34m\u001b[0m\u001b[0m\n\u001b[0m\u001b[1;32m   1465\u001b[0m             \u001b[0;32mreturn\u001b[0m \u001b[0mpil_to_array\u001b[0m\u001b[0;34m(\u001b[0m\u001b[0mimage\u001b[0m\u001b[0;34m)\u001b[0m\u001b[0;34m\u001b[0m\u001b[0;34m\u001b[0m\u001b[0m\n\u001b[1;32m   1466\u001b[0m     \u001b[0;32mfrom\u001b[0m \u001b[0mmatplotlib\u001b[0m \u001b[0;32mimport\u001b[0m \u001b[0m_png\u001b[0m\u001b[0;34m\u001b[0m\u001b[0;34m\u001b[0m\u001b[0m\n",
            "\u001b[0;32m/usr/local/lib/python3.6/dist-packages/PIL/Image.py\u001b[0m in \u001b[0;36mopen\u001b[0;34m(fp, mode)\u001b[0m\n\u001b[1;32m   2807\u001b[0m \u001b[0;34m\u001b[0m\u001b[0m\n\u001b[1;32m   2808\u001b[0m     \u001b[0;32mif\u001b[0m \u001b[0mfilename\u001b[0m\u001b[0;34m:\u001b[0m\u001b[0;34m\u001b[0m\u001b[0;34m\u001b[0m\u001b[0m\n\u001b[0;32m-> 2809\u001b[0;31m         \u001b[0mfp\u001b[0m \u001b[0;34m=\u001b[0m \u001b[0mbuiltins\u001b[0m\u001b[0;34m.\u001b[0m\u001b[0mopen\u001b[0m\u001b[0;34m(\u001b[0m\u001b[0mfilename\u001b[0m\u001b[0;34m,\u001b[0m \u001b[0;34m\"rb\"\u001b[0m\u001b[0;34m)\u001b[0m\u001b[0;34m\u001b[0m\u001b[0;34m\u001b[0m\u001b[0m\n\u001b[0m\u001b[1;32m   2810\u001b[0m         \u001b[0mexclusive_fp\u001b[0m \u001b[0;34m=\u001b[0m \u001b[0;32mTrue\u001b[0m\u001b[0;34m\u001b[0m\u001b[0;34m\u001b[0m\u001b[0m\n\u001b[1;32m   2811\u001b[0m \u001b[0;34m\u001b[0m\u001b[0m\n",
            "\u001b[0;31mFileNotFoundError\u001b[0m: [Errno 2] No such file or directory: 'jpeg/train/ISIC_0015719.jpg'"
          ]
        },
        {
          "output_type": "display_data",
          "data": {
            "image/png": "[encoded data removed]",
            "text/plain": [
              "<Figure size 432x288 with 1 Axes>"
            ]
          },
          "metadata": {
            "tags": [],
            "needs_background": "light"
          }
        }
      ]
    }
  ]
}